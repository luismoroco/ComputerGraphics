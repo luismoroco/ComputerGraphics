{
 "cells": [
  {
   "cell_type": "markdown",
   "metadata": {},
   "source": [
    "## **Clasificación de imágenes**"
   ]
  },
  {
   "cell_type": "markdown",
   "metadata": {},
   "source": [
    "Modelo de red neuronal profunda\n",
    "- DensNet121 \n",
    "- Caffe Framework\n",
    "- Tarea de Clasificación"
   ]
  },
  {
   "cell_type": "code",
   "execution_count": 1,
   "metadata": {},
   "outputs": [],
   "source": [
    "# Librerias utilizadas\n",
    "import cv2\n",
    "import numpy as np "
   ]
  },
  {
   "cell_type": "markdown",
   "metadata": {},
   "source": [
    "**Leer las imagens de ImageNet**"
   ]
  },
  {
   "cell_type": "code",
   "execution_count": 2,
   "metadata": {},
   "outputs": [],
   "source": [
    "# Leer los nombres de las clases de ImageNet\n",
    "with open ('input/classification_classes_ILSVRC2012.txt', 'r') as f:\n",
    "    image_net_names = f.read().split('\\n')\n",
    "\n",
    "# Nombres de clase finales (sólo la primera palabra de los muchos nombres de ImageNet para una imagen)\n",
    "class_names = [name.split(',')[0] for name in image_net_names]"
   ]
  },
  {
   "cell_type": "code",
   "execution_count": 3,
   "metadata": {},
   "outputs": [],
   "source": [
    "# cargar el modelo de red neuronal\n",
    "model = cv2.dnn.readNet(model = 'input/DenseNet_121.caffemodel',\n",
    "                       config = 'input/DenseNet_121.prototxt', framework = 'Caffe')"
   ]
  },
  {
   "cell_type": "markdown",
   "metadata": {},
   "source": [
    "**Leer la imagen y prepararla para la entrada del modelo**\n"
   ]
  },
  {
   "cell_type": "code",
   "execution_count": 4,
   "metadata": {},
   "outputs": [],
   "source": [
    "# Cargar la imagen desde el disco\n",
    "image = cv2.imread('input/image_1.jpg')\n",
    "image = cv2.resize(image, (900, 700))\n",
    "\n",
    "# Normalizar la imagen\n",
    "# scalefactor: escala de la imagen, size: tamaño de la imagen, mean: media de la imagen y swapRB: si se cambia el orden de los canales de la imagen\n",
    "# blobFromImage: crea un blob de la imagen\n",
    "blob = cv2.dnn.blobFromImage(image=image, scalefactor=0.01, size=(224, 224), mean=(104, 117, 123)) "
   ]
  },
  {
   "cell_type": "code",
   "execution_count": 5,
   "metadata": {},
   "outputs": [],
   "source": [
    "model.setInput(blob) # setInput: establece el blob de entrada para la red neuronal\n",
    "\n",
    "outputs = model.forward() # outputs: salida de la red neuronal"
   ]
  },
  {
   "cell_type": "markdown",
   "metadata": {},
   "source": [
    "**Propagar la entrada a través del modelo**"
   ]
  },
  {
   "cell_type": "code",
   "execution_count": 6,
   "metadata": {},
   "outputs": [
    {
     "data": {
      "text/plain": [
       "True"
      ]
     },
     "execution_count": 6,
     "metadata": {},
     "output_type": "execute_result"
    }
   ],
   "source": [
    "# Obtener la salida final\n",
    "final_outputs = outputs[0] \n",
    "\n",
    "# Hacer todas las salidas 1D\n",
    "final_outputs = final_outputs.reshape(1000, 1) #Crear\n",
    "\n",
    "# Obtener la etiqueta de clase\n",
    "label_id = np.argmax(final_outputs)\n",
    "\n",
    "# Convertir las puntuaciones de salida en probabilidades softmax\n",
    "probs = np.exp(final_outputs) / np.sum(np.exp(final_outputs))\n",
    "\n",
    "# Obtener la mayor probabilidad final\n",
    "final_prob = np.max(probs) * 100.\n",
    "\n",
    "# Asignar la confianza máxima a los nombres de las etiquetas de clase\n",
    "out_name = class_names[label_id] \n",
    "out_text = f\"{out_name}, {final_prob:.3f}\" \n",
    "\n",
    "# Poner el texto del nombre de la clase encima de la imagen\n",
    "cv2.putText(image, out_text, (25, 50), cv2.FONT_HERSHEY_SIMPLEX, 1, (255, 255, 255), 2)\n",
    "cv2.imshow('Imagen', image)\n",
    "cv2.waitKey(0)\n",
    "\n",
    "# Guardar resultado\n",
    "cv2.imwrite('img/resultado_1.jpg', image)"
   ]
  }
 ],
 "metadata": {
  "kernelspec": {
   "display_name": "Python 3.9.12 ('base')",
   "language": "python",
   "name": "python3"
  },
  "language_info": {
   "codemirror_mode": {
    "name": "ipython",
    "version": 3
   },
   "file_extension": ".py",
   "mimetype": "text/x-python",
   "name": "python",
   "nbconvert_exporter": "python",
   "pygments_lexer": "ipython3",
   "version": "3.8.10"
  },
  "orig_nbformat": 4,
  "vscode": {
   "interpreter": {
    "hash": "ad2bdc8ecc057115af97d19610ffacc2b4e99fae6737bb82f5d7fb13d2f2c186"
   }
  }
 },
 "nbformat": 4,
 "nbformat_minor": 2
}
