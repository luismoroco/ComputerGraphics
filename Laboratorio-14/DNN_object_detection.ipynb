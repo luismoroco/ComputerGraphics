{
 "cells": [
  {
   "cell_type": "markdown",
   "metadata": {},
   "source": [
    "## **Detección de objetos**"
   ]
  },
  {
   "cell_type": "markdown",
   "metadata": {},
   "source": [
    "- MobileNet SSD (Single Shot Detector)\n",
    "- MS COCO dataset\n",
    "- TensorFlow"
   ]
  },
  {
   "cell_type": "code",
   "execution_count": 1,
   "metadata": {},
   "outputs": [],
   "source": [
    "# Librerias utilizadas\n",
    "import cv2\n",
    "import numpy as np"
   ]
  },
  {
   "cell_type": "code",
   "execution_count": 3,
   "metadata": {},
   "outputs": [],
   "source": [
    "# Cargar los nombres de las clases COCO\n",
    "with  open('input/object_detection_classes_coco.txt', 'r') as f:\n",
    "   class_names = f.read().split('\\n')\n",
    " \n",
    "# Obtener una matriz de colores diferentes para cada una de las clases\n",
    "COLORS = np.random.uniform(0, 255, size=(len(class_names), 3))"
   ]
  },
  {
   "cell_type": "markdown",
   "metadata": {},
   "source": [
    "**Cargar el modelo SSD de MobileNet y preparar la entrada**"
   ]
  },
  {
   "cell_type": "code",
   "execution_count": 7,
   "metadata": {},
   "outputs": [],
   "source": [
    "# Cargar el modelo DNN\n",
    "# load the DNN model\n",
    "model = cv2.dnn.readNet(model='input/frozen_inference_graph.pb',\n",
    "                        config='input/ssd_mobilenet_v2_coco_2018_03_29.pbtxt.txt',framework='TensorFlow')\n",
    "\n",
    "\n",
    "# Leer la imagen \n",
    "image = cv2.imread('input/image_2.jpg') #Buena\n",
    "#image = cv2.imread('input/image_3.jpg') #Regular\n",
    "#image = cv2.imread('input/image_4.jpg') #Mala\n",
    "\n",
    "image_height, image_width, _ = image.shape\n",
    "\n",
    "# Crear una mancha a partir de una imagen\n",
    "blob = cv2.dnn.blobFromImage(image=image, size=(300, 300), mean=(104, 117, 123), swapRB=True)\n",
    "\n",
    "# Fijar la mancha en el modelo\n",
    "model.setInput(blob)\n",
    "\n",
    "# Pase hacia adelante a través del modelo para llevar a cabo la detección\n",
    "output = model.forward()"
   ]
  },
  {
   "cell_type": "markdown",
   "metadata": {},
   "source": [
    "**Recorrer las detecciones y dibujar los cuadros delimitadores**"
   ]
  },
  {
   "cell_type": "code",
   "execution_count": 8,
   "metadata": {},
   "outputs": [],
   "source": [
    "# Bucle sobre cada una de las detecciones\n",
    "for detection in output[0, 0, :, :]:\n",
    "  \n",
    "   # Extraer la confianza de la detección\n",
    "   confidence = detection[2]\n",
    "   \n",
    "   # Dibujar los cuadros delimitadores sólo si la confianza de la detección es superior \n",
    "   # a ...... un determinado umbral, de lo contrario se omite\n",
    "   \n",
    "   if confidence > .4:\n",
    "       # Obtener el id de la clase\n",
    "       class_id = detection[1]\n",
    "      \n",
    "       # Asignar el id de la clase a la clase\n",
    "       class_name = class_names[int(class_id)-1]\n",
    "       color = COLORS[int(class_id)]\n",
    "      \n",
    "       # Obtener las coordenadas del cuadro delimitador\n",
    "       box_x = detection[3] * image_width\n",
    "       box_y = detection[4] * image_height\n",
    "      \n",
    "       # obtener la anchura y la altura del cuadro delimitador\n",
    "       box_width = detection[5] * image_width #anchura\n",
    "       box_height = detection[6] * image_height #altura\n",
    "     \n",
    "       # Dibujar un rectángulo alrededor de cada objeto detectado\n",
    "       cv2.rectangle(image, (int(box_x), int(box_y)), (int(box_width), int(box_height)), color, thickness=2)\n",
    "      \n",
    "       #poner el texto FPS en la parte superior del marco\n",
    "       cv2.putText(image, class_name, (int(box_x), int(box_y - 5)), cv2.FONT_HERSHEY_SIMPLEX, 1, color, 2)\n",
    "\n",
    "# Mostrar la imagen resultante \n",
    "cv2.imshow('imagen', image)\n",
    "\n",
    "# Guardar la imagen resultante\n",
    "cv2.imwrite('img/resultado2.jpg', image)\n",
    "\n",
    "# Cerrar la ventana de visualización\n",
    "cv2.waitKey(0)\n",
    "cv2.destroyAllWindows()"
   ]
  }
 ],
 "metadata": {
  "kernelspec": {
   "display_name": "Python 3.9.12 ('base')",
   "language": "python",
   "name": "python3"
  },
  "language_info": {
   "codemirror_mode": {
    "name": "ipython",
    "version": 3
   },
   "file_extension": ".py",
   "mimetype": "text/x-python",
   "name": "python",
   "nbconvert_exporter": "python",
   "pygments_lexer": "ipython3",
   "version": "3.8.10"
  },
  "orig_nbformat": 4,
  "vscode": {
   "interpreter": {
    "hash": "ad2bdc8ecc057115af97d19610ffacc2b4e99fae6737bb82f5d7fb13d2f2c186"
   }
  }
 },
 "nbformat": 4,
 "nbformat_minor": 2
}
