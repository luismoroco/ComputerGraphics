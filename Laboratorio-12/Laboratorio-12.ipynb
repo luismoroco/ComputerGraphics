{
 "cells": [
  {
   "cell_type": "markdown",
   "id": "fe8bd335",
   "metadata": {},
   "source": [
    "# Laboatorio 12 "
   ]
  },
  {
   "cell_type": "markdown",
   "id": "923d388d",
   "metadata": {},
   "source": [
    "## Computación Gráfica - Laboratorio"
   ]
  },
  {
   "cell_type": "markdown",
   "id": "4d18d121",
   "metadata": {},
   "source": [
    "importamos las librerías que necesitaremos"
   ]
  },
  {
   "cell_type": "code",
   "execution_count": 34,
   "id": "83bc173d",
   "metadata": {},
   "outputs": [],
   "source": [
    "import numpy as np\n",
    "import matplotlib.pyplot as plt\n",
    "import cv2\n",
    "import os \n",
    "import random"
   ]
  },
  {
   "cell_type": "markdown",
   "id": "3f251f76",
   "metadata": {},
   "source": [
    "## Actividades"
   ]
  },
  {
   "cell_type": "markdown",
   "id": "2918755e",
   "metadata": {},
   "source": [
    "### 1. Creen un arreglo de 5x5 donde los números sean aleatorios del 1 al 10"
   ]
  },
  {
   "cell_type": "markdown",
   "id": "5497d2a6",
   "metadata": {},
   "source": [
    "Aquí simplemente crearemos un arreglo vacío con 5 espacios, luego en cada iteración crearemos otro arreglo vacío de 5 al que llenaremos de forma aleatoria y luego guardaremos ese arreglo en la matriz original. El arreglo row es temporal y matrix quedaría de forma global para luego poder imprimirlo."
   ]
  },
  {
   "cell_type": "code",
   "execution_count": 35,
   "id": "0a14033d",
   "metadata": {},
   "outputs": [
    {
     "name": "stdout",
     "output_type": "stream",
     "text": [
      "[7, 4, 7, 10, 6]\n",
      "[3, 10, 7, 4, 8]\n",
      "[5, 9, 4, 8, 4]\n",
      "[2, 1, 6, 1, 1]\n",
      "[5, 2, 3, 10, 10]\n"
     ]
    }
   ],
   "source": [
    "matrix = [None]*5 \n",
    "for i in range(5):\n",
    "    row = [None]*5\n",
    "    for j in range(5):\n",
    "        row[j] = random.randint(1, 10)\n",
    "    matrix[i] = row\n",
    "\n",
    "for i in matrix:\n",
    "    print(i)"
   ]
  },
  {
   "cell_type": "markdown",
   "id": "25a82865",
   "metadata": {},
   "source": [
    "### 2. Muestren solo el canal azul de la figura"
   ]
  },
  {
   "cell_type": "markdown",
   "id": "404bbd42",
   "metadata": {},
   "source": [
    "Para poder ver el canal Azul, usaremos la función split y las guardaremos en variables, luego la tomaremos y usaremos imshow para mostrarla."
   ]
  },
  {
   "cell_type": "code",
   "execution_count": 36,
   "id": "719a2a56",
   "metadata": {},
   "outputs": [],
   "source": [
    "image_original = cv2.imread('pablito.jpg', 1)\n",
    "(B, G, R) = cv2.split(image_original)\n",
    "\n",
    "cv2.imshow(\"Canal Azul\", B)\n",
    "\n",
    "cv2.waitKey(0)\n",
    "cv2.destroyAllWindows()"
   ]
  },
  {
   "cell_type": "markdown",
   "id": "16bf6258",
   "metadata": {},
   "source": [
    "### 3. Cambien la imagen a escala de grises"
   ]
  },
  {
   "cell_type": "markdown",
   "id": "17fc9d38",
   "metadata": {},
   "source": [
    "Para esto punto, crearemos una copia de la imagen original, después usaremos cvtColor y usaremos el parámetro COLOR_BGR2GRAY."
   ]
  },
  {
   "cell_type": "code",
   "execution_count": 37,
   "id": "ae5b1e6c",
   "metadata": {},
   "outputs": [],
   "source": [
    "img_tmp = image_original.copy()\n",
    "img_gray = cv2.cvtColor(img_tmp, cv2.COLOR_BGR2GRAY)\n",
    "\n",
    "cv2.imshow(\"Escala de Grises\", img_gray)\n",
    "\n",
    "cv2.waitKey(0)\n",
    "cv2.destroyAllWindows()"
   ]
  },
  {
   "cell_type": "markdown",
   "id": "1b63f33b",
   "metadata": {},
   "source": [
    "### 4. Guarden una nueva imagen que contenga solo los canales rojo y verde"
   ]
  },
  {
   "cell_type": "markdown",
   "id": "432f8cca",
   "metadata": {},
   "source": [
    "En este punto, reusaremos los resultados del split visto en el punto 2 y los usaremos en la función merge de opencv y luego mostraremos el resultado."
   ]
  },
  {
   "cell_type": "code",
   "execution_count": 38,
   "id": "5f39dac0",
   "metadata": {},
   "outputs": [],
   "source": [
    "img_red_green = image_original.copy()\n",
    "img_red_green[:,:,0] = 0 \n",
    "\n",
    "cv2.imshow('merged image Verde + Rojo', img_red_green)\n",
    "\n",
    "cv2.waitKey(0)\n",
    "cv2.destroyAllWindows()"
   ]
  },
  {
   "cell_type": "code",
   "execution_count": 26,
   "id": "ab96691d",
   "metadata": {},
   "outputs": [
    {
     "data": {
      "text/plain": [
       "True"
      ]
     },
     "execution_count": 26,
     "metadata": {},
     "output_type": "execute_result"
    }
   ],
   "source": [
    "cv2.imwrite('merge_green_red.jpg', img_red_green)"
   ]
  },
  {
   "cell_type": "markdown",
   "id": "53c7fc81",
   "metadata": {},
   "source": [
    "### 5. Guarden una nueva imagen que muestre la imagen en escala de grises"
   ]
  },
  {
   "cell_type": "markdown",
   "id": "7fb7b17a",
   "metadata": {},
   "source": [
    "Para guardar la imagen de escala de grises definida en el punto 3 usaremos la función cv2.imwrite()."
   ]
  },
  {
   "cell_type": "code",
   "execution_count": 29,
   "id": "216c5d5e",
   "metadata": {},
   "outputs": [
    {
     "data": {
      "text/plain": [
       "True"
      ]
     },
     "execution_count": 29,
     "metadata": {},
     "output_type": "execute_result"
    }
   ],
   "source": [
    "cv2.imwrite('img_gray_scale.jpg', img_gray)"
   ]
  }
 ],
 "metadata": {
  "kernelspec": {
   "display_name": "Python 3 (ipykernel)",
   "language": "python",
   "name": "python3"
  },
  "language_info": {
   "codemirror_mode": {
    "name": "ipython",
    "version": 3
   },
   "file_extension": ".py",
   "mimetype": "text/x-python",
   "name": "python",
   "nbconvert_exporter": "python",
   "pygments_lexer": "ipython3",
   "version": "3.8.10"
  }
 },
 "nbformat": 4,
 "nbformat_minor": 5
}
