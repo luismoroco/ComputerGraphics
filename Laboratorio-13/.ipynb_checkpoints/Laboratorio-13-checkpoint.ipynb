{
 "cells": [
  {
   "cell_type": "markdown",
   "id": "b2cf20ac",
   "metadata": {},
   "source": [
    "# Laboratorio 13 \n",
    "## Computación Gráfica - OpenCV"
   ]
  },
  {
   "cell_type": "markdown",
   "id": "0d715c35",
   "metadata": {},
   "source": [
    "Importamos la librerías necesarias"
   ]
  },
  {
   "cell_type": "code",
   "execution_count": 1,
   "id": "dd88e141",
   "metadata": {},
   "outputs": [],
   "source": [
    "import cv2\n",
    "import numpy as np\n",
    "import matplotlib.pyplot as plt\n",
    "import os"
   ]
  },
  {
   "cell_type": "markdown",
   "id": "173d3dd2",
   "metadata": {},
   "source": [
    "Variables de color"
   ]
  },
  {
   "cell_type": "code",
   "execution_count": 2,
   "id": "6d0f1e26",
   "metadata": {},
   "outputs": [],
   "source": [
    "azul = (255, 0, 0)\n",
    "verde = (0, 255, 0)\n",
    "rojo = (0, 0, 255)\n",
    "cyan = (102, 102, 255)"
   ]
  },
  {
   "cell_type": "markdown",
   "id": "38022f62",
   "metadata": {},
   "source": [
    "Funciones auxiliares"
   ]
  },
  {
   "cell_type": "code",
   "execution_count": 3,
   "id": "d2363f00",
   "metadata": {},
   "outputs": [],
   "source": [
    "# Función para dibujar un pentágono\n",
    "\n",
    "def drawPentagono(img, x, y, tam, color) -> None:\n",
    "    cv2.line(img, (x, y-tam), (x-tam, y-20), color, 5)\n",
    "    cv2.line(img, (x-tam, y-20), (x-tam+20, y+tam), color, 5)\n",
    "    cv2.line(img, (x-tam+20, y+tam), (x+tam-20, y+tam), color, 5)\n",
    "    cv2.line(img, (x+tam-20, y+tam), (x+tam, y-20), color, 5)\n",
    "    cv2.line(img, (x+tam, y-20), (x, y-tam), color, 5)\n",
    "    \n",
    "# Función para obtener parámetros para un rectángulo\n",
    "\n",
    "def getParamsRec(x, y, t, v):\n",
    "    xi, yi = x-t, y-v\n",
    "    xe, ye = x+t, y+v\n",
    "    return (xi, yi), (xe, ye)\n",
    "\n",
    "pi = 3.14\n",
    "def getAreaCircle(r):\n",
    "    return pi*r*r\n",
    "\n",
    "def getAreaPentag():\n",
    "    return (5/2)*400\n",
    "\n",
    "def getAreaRect(a, b, c, d):\n",
    "    return (c-a)*(d-b)"
   ]
  },
  {
   "cell_type": "markdown",
   "id": "273f285b",
   "metadata": {},
   "source": [
    "## Actividades"
   ]
  },
  {
   "cell_type": "markdown",
   "id": "6af9ecd1",
   "metadata": {},
   "source": [
    "Primero se leerá la imagen orginal"
   ]
  },
  {
   "cell_type": "code",
   "execution_count": 4,
   "id": "8ca1436a",
   "metadata": {},
   "outputs": [],
   "source": [
    "original_image = cv2.imread('perro-gato-niña.jpg', 1)\n",
    "cv2.imshow('Imagen original', original_image)\n",
    "\n",
    "cv2.waitKey(0)\n",
    "cv2.destroyAllWindows()"
   ]
  },
  {
   "cell_type": "markdown",
   "id": "fbd8b673",
   "metadata": {},
   "source": [
    "### 1. Cambie el tipo de color a RGB\n",
    "\n",
    "Lo primero será revisar el orden de los canales de nuestra imagen para luego mostrarla. Después cambiaremos la convención a RGB y también la mostraremos, esto para apreiar las diferencias."
   ]
  },
  {
   "cell_type": "code",
   "execution_count": 5,
   "id": "6b3c1b8b",
   "metadata": {},
   "outputs": [],
   "source": [
    "# Original\n",
    "\n",
    "c1 = original_image[:,:,0]\n",
    "c2 = original_image[:,:,1]\n",
    "c3 = original_image[:,:,2]\n",
    "cv2.imshow('IMAGEN ORIGINAL Convención-BGR', np.hstack([c1, c2, c3]))\n",
    "\n",
    "# Aquí la pasaremos a RGB\n",
    "\n",
    "img_rgb = cv2.cvtColor(original_image, cv2.COLOR_BGR2RGB)\n",
    "cr1 = img_rgb[:,:,0]\n",
    "cr2 = img_rgb[:,:,1]\n",
    "cr3 = img_rgb[:,:,2]\n",
    "cv2.imshow('IMAGEN PASADA A RGB', np.hstack([cr1, cr2, cr3]))\n",
    "\n",
    "cv2.waitKey(0)\n",
    "cv2.destroyAllWindows()"
   ]
  },
  {
   "cell_type": "markdown",
   "id": "a4d6c134",
   "metadata": {},
   "source": [
    "### 2. Hagan girar la imagen\n",
    "Aquí usaremos lo visto en teoría, la matriz de rotación. Crearemos una imagen aparte para trabajar con una copia. Para este fin usaremos la función cv2.rotate definida en cv2 y la rotaremos en 180 grados."
   ]
  },
  {
   "cell_type": "code",
   "execution_count": 6,
   "id": "de9bac42",
   "metadata": {},
   "outputs": [],
   "source": [
    "# Copiamos la imagen a temp\n",
    "\n",
    "temp_image = original_image\n",
    "imagen_rotada = cv2.rotate(temp_image, cv2.ROTATE_180)\n",
    "\n",
    "# Rotamos la imagen\n",
    "\n",
    "cv2.imshow('Imagen ROTADA 180 grados', imagen_rotada)\n",
    "\n",
    "cv2.waitKey(0)\n",
    "cv2.destroyAllWindows()"
   ]
  },
  {
   "cell_type": "markdown",
   "id": "d94284f0",
   "metadata": {},
   "source": [
    "### 3. Dibujen un círculo sobre las caras de dicha figura y agreguen un texto que describa qué es\n",
    "\n",
    "Aquí podremos usar la función cv2.circle y coordenadas para dibujar el círculo. Adicionalmente a eso usaré puText de opencv.\n",
    "\n"
   ]
  },
  {
   "cell_type": "code",
   "execution_count": 7,
   "id": "abd4fdb1",
   "metadata": {},
   "outputs": [],
   "source": [
    "# Creamos una copia donde trabajar \n",
    "\n",
    "for_draw = original_image.copy()\n",
    "\n",
    "for_draw = cv2.circle(for_draw, (250, 100), 60, azul, 2)\n",
    "cv2.putText(for_draw, 'Persona', (190, 180), cv2.FONT_HERSHEY_SIMPLEX, 1, azul, 2)\n",
    "\n",
    "for_draw = cv2.circle(for_draw, (150, 230), 60, verde, 2)\n",
    "cv2.putText(for_draw, 'Gato', (110,310), cv2.FONT_HERSHEY_SIMPLEX, 1, verde, 2)\n",
    "\n",
    "for_draw = cv2.circle(for_draw, (400, 200), 60, rojo, 2)\n",
    "cv2.putText(for_draw, 'Perro', (360, 280), cv2.FONT_HERSHEY_SIMPLEX, 1, rojo, 2)\n",
    "\n",
    "cv2.imshow('Imagen con CIRCULOS', for_draw)\n",
    "\n",
    "cv2.waitKey(0)\n",
    "cv2.destroyAllWindows()"
   ]
  },
  {
   "cell_type": "markdown",
   "id": "81044468",
   "metadata": {},
   "source": [
    "### 4. Guarden la figura con los círculos dibujados y el texto generado\n",
    "\n",
    "Ahora se tomará la imagen 'for_draw' y la guardaremos usando cv2.write()"
   ]
  },
  {
   "cell_type": "code",
   "execution_count": null,
   "id": "706983cd",
   "metadata": {},
   "outputs": [],
   "source": [
    "cv2.imwrite('fig_text_circle.jpg', for_draw)"
   ]
  },
  {
   "cell_type": "markdown",
   "id": "27282473",
   "metadata": {},
   "source": [
    "### 5. En una imagen distinta al anterior creen una pentágono sobre las caras de las figuras y agreguen un texto que describa que es\n",
    "\n"
   ]
  },
  {
   "cell_type": "code",
   "execution_count": 8,
   "id": "9c3e2372",
   "metadata": {},
   "outputs": [],
   "source": [
    "for_pentag = original_image.copy()\n",
    "\n",
    "drawPentagono(for_pentag, 250, 100, 60, azul)\n",
    "cv2.putText(for_pentag, 'Persona', (190, 180), cv2.FONT_HERSHEY_SIMPLEX, 1, azul, 2)\n",
    "\n",
    "drawPentagono(for_pentag, 150, 230, 60, verde)\n",
    "cv2.putText(for_pentag, 'Gato', (110,310), cv2.FONT_HERSHEY_SIMPLEX, 1, verde, 2)\n",
    "\n",
    "drawPentagono(for_pentag, 400, 200, 60, rojo)\n",
    "cv2.putText(for_pentag, 'Perro', (360, 280), cv2.FONT_HERSHEY_SIMPLEX, 1, rojo, 2)\n",
    "\n",
    "cv2.imshow('Imagen con PENTÁGONOS', for_pentag)\n",
    "\n",
    "cv2.waitKey(0)\n",
    "cv2.destroyAllWindows()"
   ]
  },
  {
   "cell_type": "markdown",
   "id": "9176cd41",
   "metadata": {},
   "source": [
    "Ahora guardaremos la imagen"
   ]
  },
  {
   "cell_type": "code",
   "execution_count": null,
   "id": "3a87129d",
   "metadata": {},
   "outputs": [],
   "source": [
    "cv2.imwrite('fig_text_pentag.jpg', for_pentag)"
   ]
  },
  {
   "cell_type": "markdown",
   "id": "6989b64f",
   "metadata": {},
   "source": [
    "### 6. Creen un programa que permita dibujar diferentes tipos de figuras geométricas con el uso de eventos de mouse para poder hacer dibujos y luego guarden la imagen."
   ]
  },
  {
   "cell_type": "markdown",
   "id": "2519a8e1",
   "metadata": {},
   "source": [
    "Se necesitan algunas funciones adicionales"
   ]
  },
  {
   "cell_type": "code",
   "execution_count": 9,
   "id": "005280a1",
   "metadata": {},
   "outputs": [],
   "source": [
    "def draw(event,x,y,flags,param):\n",
    "    if event == cv2.EVENT_RBUTTONDOWN:\n",
    "        cv2.circle(img_mouse_draw,(x,y),20,rojo,2)\n",
    "    \n",
    "    if event == cv2.EVENT_LBUTTONDOWN:\n",
    "        drawPentagono(img_mouse_draw, x, y, 60, azul)\n",
    "        \n",
    "    if event == cv2.EVENT_MBUTTONDBLCLK:\n",
    "        start, end = getParamsRec(x, y, r.radio, r.radio-10)\n",
    "        xs, ys = start\n",
    "        xe, ye = end\n",
    "        cv2.rectangle(img_mouse_draw, start, end, verde, 2)\n",
    "    \n",
    "    if event == cv2.EVENT_MBUTTONDOWN:\n",
    "        cv2.ellipse(img_mouse_draw, (x, y), (100, 50), 0, 0, 360, cyan, 2)"
   ]
  },
  {
   "cell_type": "markdown",
   "id": "7cd9adaa",
   "metadata": {},
   "source": [
    "#### Teclas habilitadas y funciones:\n",
    "CLICK DERECHO: Círculo\n",
    "\n",
    "CLICK IZQUIERDO: Pentágono\n",
    "\n",
    "DOBLE CLICK EN SCROLL: Rectángulo\n",
    "\n",
    "CLICK SCROLL: Ellipse"
   ]
  },
  {
   "cell_type": "code",
   "execution_count": 10,
   "id": "d64a440d",
   "metadata": {},
   "outputs": [
    {
     "ename": "NameError",
     "evalue": "name 'r' is not defined",
     "output_type": "error",
     "traceback": [
      "\u001b[0;31m---------------------------------------------------------------------------\u001b[0m",
      "\u001b[0;31mNameError\u001b[0m                                 Traceback (most recent call last)",
      "Input \u001b[0;32mIn [9]\u001b[0m, in \u001b[0;36mdraw\u001b[0;34m(event, x, y, flags, param)\u001b[0m\n\u001b[1;32m      6\u001b[0m     drawPentagono(img_mouse_draw, x, y, \u001b[38;5;241m60\u001b[39m, azul)\n\u001b[1;32m      8\u001b[0m \u001b[38;5;28;01mif\u001b[39;00m event \u001b[38;5;241m==\u001b[39m cv2\u001b[38;5;241m.\u001b[39mEVENT_MBUTTONDBLCLK:\n\u001b[0;32m----> 9\u001b[0m     start, end \u001b[38;5;241m=\u001b[39m getParamsRec(x, y, \u001b[43mr\u001b[49m\u001b[38;5;241m.\u001b[39mradio, r\u001b[38;5;241m.\u001b[39mradio\u001b[38;5;241m-\u001b[39m\u001b[38;5;241m10\u001b[39m)\n\u001b[1;32m     10\u001b[0m     xs, ys \u001b[38;5;241m=\u001b[39m start\n\u001b[1;32m     11\u001b[0m     xe, ye \u001b[38;5;241m=\u001b[39m end\n",
      "\u001b[0;31mNameError\u001b[0m: name 'r' is not defined"
     ]
    }
   ],
   "source": [
    "# Hacemos una copia de la imagen\n",
    "\n",
    "img_mouse_draw = original_image.copy()\n",
    "\n",
    "cv2.namedWindow('Ventana para dibujar')\n",
    "cv2.setMouseCallback('Ventana para dibujar', draw)\n",
    "\n",
    "while True:\n",
    "    cv2.imshow('Ventana para dibujar', img_mouse_draw)\n",
    "    if cv2.waitKey(1) & 0xFF == ord(\"q\"):\n",
    "        break\n",
    "\n",
    "cv2.destroyAllWindows()"
   ]
  },
  {
   "cell_type": "markdown",
   "id": "49463dd8",
   "metadata": {},
   "source": [
    "Ahora guardamos la imagen 'img_mouse_draw'"
   ]
  },
  {
   "cell_type": "code",
   "execution_count": 98,
   "id": "b5715b24",
   "metadata": {},
   "outputs": [
    {
     "data": {
      "text/plain": [
       "True"
      ]
     },
     "execution_count": 98,
     "metadata": {},
     "output_type": "execute_result"
    }
   ],
   "source": [
    "cv2.imwrite('img_mouse_draw.jpg', img_mouse_draw)"
   ]
  },
  {
   "cell_type": "markdown",
   "id": "9f83b2b8",
   "metadata": {},
   "source": [
    "### 7. Modifiquen el programa para agregar funciones adicionales"
   ]
  },
  {
   "cell_type": "markdown",
   "id": "8a04d9ba",
   "metadata": {},
   "source": [
    "Como se vio en la actividad 6, opencv incluye funciones para un dibujo automático, esto fue añadido a unas implementaciones propias. Ahora extenderemos esta funcionalidades haciendolas más interactivas."
   ]
  },
  {
   "cell_type": "markdown",
   "id": "75e4d2c0",
   "metadata": {},
   "source": [
    "#### ¿Qué se añadirá?\n",
    "\n",
    "- Aumentar el tamaño de los objetos\n",
    "- Disminuir el tamaño\n",
    "- Indicador flotante del tamaño actual\n",
    "- Areas para los objetos cada vez que cambian\n",
    "- Contador de objetos\n",
    "\n",
    "#### Indicaciones \n",
    "\n",
    "- Círculo Negro: Tamaño\n",
    "- Circulo Rojo: Contador"
   ]
  },
  {
   "cell_type": "markdown",
   "id": "161eb4b1",
   "metadata": {},
   "source": [
    "Se necesitan algunas funciones adicionales"
   ]
  },
  {
   "cell_type": "code",
   "execution_count": 11,
   "id": "ac6d7536",
   "metadata": {},
   "outputs": [],
   "source": [
    "class Ratio:\n",
    "    radio = 20\n",
    "    def moreRadio(self):\n",
    "        self.radio = self.radio + 3\n",
    "    def minusRadio(self):\n",
    "        if self.radio < 5:\n",
    "            self.radio = 10\n",
    "        else:\n",
    "            self.radio = self.radio - 3"
   ]
  },
  {
   "cell_type": "code",
   "execution_count": 12,
   "id": "b126c864",
   "metadata": {},
   "outputs": [],
   "source": [
    "class Counter:\n",
    "    count = 0\n",
    "    def addItem(self):\n",
    "        self.count = self.count + 1"
   ]
  },
  {
   "cell_type": "code",
   "execution_count": 13,
   "id": "c725d2c4",
   "metadata": {},
   "outputs": [],
   "source": [
    "def draw_extended(event,x,y,flags,param):\n",
    "    if event == cv2.EVENT_RBUTTONDBLCLK:\n",
    "        r.moreRadio()\n",
    "    \n",
    "    if event == cv2.EVENT_LBUTTONDBLCLK:\n",
    "        r.minusRadio()\n",
    "    \n",
    "    if event == cv2.EVENT_RBUTTONDOWN:\n",
    "        cv2.circle(img_mouse_draw_extend,(x,y),r.radio,rojo,-1)\n",
    "        are = str(getAreaCircle(r.radio))\n",
    "        cv2.putText(img_mouse_draw_extend, are, (x-20, y), cv2.FONT_HERSHEY_SIMPLEX, 1, (0,0,0), 4)\n",
    "        c.addItem()\n",
    "    \n",
    "    if event == cv2.EVENT_LBUTTONDOWN:\n",
    "        drawPentagono(img_mouse_draw_extend, x, y, r.radio, azul)\n",
    "        c.addItem()\n",
    "        \n",
    "    if event == cv2.EVENT_MBUTTONDBLCLK:\n",
    "        start, end = getParamsRec(x, y, r.radio, r.radio-10)\n",
    "        xs, ys = start\n",
    "        xe, ye = end\n",
    "        are = str(getAreaRect(xs, ys, xe, ye))\n",
    "        cv2.rectangle(img_mouse_draw_extend, start, end, verde, -1)\n",
    "        cv2.putText(img_mouse_draw_extend, are, (x-20, y), cv2.FONT_HERSHEY_SIMPLEX, 1, (0,0,0), 4)\n",
    "        c.addItem()\n",
    "            \n",
    "    if event == cv2.EVENT_MBUTTONDOWN:\n",
    "        cv2.ellipse(img_mouse_draw_extend, (x, y), (100, 50), 0, 0, 360, cyan, -1)\n",
    "        c.addItem()"
   ]
  },
  {
   "cell_type": "code",
   "execution_count": 14,
   "id": "af2ff248",
   "metadata": {},
   "outputs": [],
   "source": [
    "# Hacemos una copia de la imagen\n",
    "\n",
    "img_mouse_draw_extend = original_image.copy()\n",
    "\n",
    "cv2.namedWindow('Ventana para dibujar Extendido')\n",
    "cv2.setMouseCallback('Ventana para dibujar Extendido', draw_extended)\n",
    "\n",
    "r = Ratio()\n",
    "c = Counter()\n",
    "while True:\n",
    "    cv2.circle(img_mouse_draw_extend,(40,40),30,(0,0,0),-1)\n",
    "    cv2.circle(img_mouse_draw_extend,(450,40),30,(0,0,255),-1)\n",
    "    rar = str(r.radio) \n",
    "    cou = str(c.count)\n",
    "    cv2.putText(img_mouse_draw_extend, rar, (22, 50), cv2.FONT_HERSHEY_SIMPLEX, 1, (255,255,255), 3)\n",
    "    cv2.putText(img_mouse_draw_extend, cou, (440, 50), cv2.FONT_HERSHEY_SIMPLEX, 1, (255,255,255), 3)\n",
    "    cv2.imshow('Ventana para dibujar Extendido', img_mouse_draw_extend)\n",
    "    if cv2.waitKey(1) & 0xFF == ord(\"q\"):\n",
    "        break\n",
    "\n",
    "cv2.destroyAllWindows()"
   ]
  },
  {
   "cell_type": "markdown",
   "id": "7c41a016",
   "metadata": {},
   "source": [
    "Por último guardamos la imagen generada"
   ]
  },
  {
   "cell_type": "code",
   "execution_count": 234,
   "id": "a96e0d01",
   "metadata": {},
   "outputs": [
    {
     "data": {
      "text/plain": [
       "True"
      ]
     },
     "execution_count": 234,
     "metadata": {},
     "output_type": "execute_result"
    }
   ],
   "source": [
    "cv2.imwrite('img_mouse_draw_extend.jpg', img_mouse_draw_extend)"
   ]
  }
 ],
 "metadata": {
  "kernelspec": {
   "display_name": "Python 3 (ipykernel)",
   "language": "python",
   "name": "python3"
  },
  "language_info": {
   "codemirror_mode": {
    "name": "ipython",
    "version": 3
   },
   "file_extension": ".py",
   "mimetype": "text/x-python",
   "name": "python",
   "nbconvert_exporter": "python",
   "pygments_lexer": "ipython3",
   "version": "3.8.10"
  }
 },
 "nbformat": 4,
 "nbformat_minor": 5
}
